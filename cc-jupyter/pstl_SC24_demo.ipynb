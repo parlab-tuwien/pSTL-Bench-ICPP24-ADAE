{
 "cells": [
  {
   "cell_type": "markdown",
   "metadata": {
    "pycharm": {
     "name": "#%% md\n"
    }
   },
   "source": [
    "# SC24 Reproducibility demo: 'Exploring Scalability in C++ Parallel STL Implementations'\n",
    "This jupyter notebook will reserve and setup the node to reproduce the experiments in the paper \"Exploring Scalability in C++ Parallel STL Implementations\"\n",
    "After the execution of this notebook, the user should be able to ssh into the system and execute there the scripts to reproduce the results of the paper."
   ]
  },
  {
   "cell_type": "code",
   "execution_count": null,
   "metadata": {
    "tags": []
   },
   "outputs": [],
   "source": [
    "# Helper functions\n",
    "import time\n",
    "\n",
    "def my_log(str):\n",
    "    date = time.strftime(\"%Y-%m-%d %H:%M:%S\")\n",
    "    print(f'[{date}] {str}')\n",
    "\n",
    "def download_fig(conn, fig):\n",
    "    remotepath = f'figures/{fig}'\n",
    "    localpath = f'pstl-figs/{fig}'\n",
    "    my_log(f'Downloading {remotepath} into {localpath}')\n",
    "    conn.get(remotepath, local=localpath)\n",
    "    my_log('Done')"
   ]
  },
  {
   "cell_type": "markdown",
   "metadata": {
    "tags": []
   },
   "source": [
    "## Instance setup"
   ]
  },
  {
   "cell_type": "code",
   "execution_count": null,
   "metadata": {
    "tags": []
   },
   "outputs": [],
   "source": [
    "import chi\n",
    "PROJECT_NAME=\"\" # Insert your project name here\n",
    "if PROJECT_NAME == \"\" or PROJECT_NAME == None:\n",
    "    raise NameError(\n",
    "        'ERROR: Variable \\'PROJECT_NAME\\' is empty or NULL. Give a valid value to continue!')\n",
    "chi.use_site('CHI@TACC')\n",
    "chi.set(\"project_name\",PROJECT_NAME)"
   ]
  },
  {
   "cell_type": "code",
   "execution_count": null,
   "metadata": {
    "tags": []
   },
   "outputs": [],
   "source": [
    "# Prepare the variables (user, image, lease name, etc.)\n",
    "\n",
    "from chi import server\n",
    "from os import environ\n",
    "\n",
    "# get username, but we can't use \"_\" in some of the next steps, so replace with \"-\"\n",
    "USERNAME = environ.get('USER').replace(\"_\", \"-\")\n",
    "\n",
    "IMAGE_NAME = \"ubuntu22-pstl\" # Custom image with all software/dependencies pre-installed\n",
    "IMAGE_ID = \"02e6eff2-e748-4cdc-baa2-0aead7f3ab7b\"\n",
    "MASTER_NAME = f\"sc24-pstl\"\n",
    "NETWORK_NAME = \"sharednet1\"\n",
    "\n",
    "FLAVOR_NAME = \"baremetal\"\n",
    "NODE_TYPE = \"compute_zen3\"\n",
    "\n",
    "my_log(f'User: {USERNAME}')\n",
    "my_log(f'Image: {IMAGE_NAME}')\n",
    "my_log(f'Master: {MASTER_NAME}')\n",
    "my_log(f'Network: {NETWORK_NAME}')\n",
    "my_log(f'Flavor: {FLAVOR_NAME}')\n",
    "my_log(f'Node type: {NODE_TYPE}')\n",
    "\n",
    "SERVER_COUNT = 1"
   ]
  },
  {
   "cell_type": "code",
   "execution_count": null,
   "metadata": {
    "tags": []
   },
   "outputs": [],
   "source": [
    "# Create a reservation for your nodes\n",
    "from chi import lease\n",
    "\n",
    "reservations = []\n",
    "lease.add_node_reservation(\n",
    "    reservations, count=SERVER_COUNT, node_type=NODE_TYPE)\n",
    "\n",
    "start_date, end_date = lease.lease_duration(days=1)\n",
    "\n",
    "lease_info = lease.create_lease(f\"{USERNAME}-lease\",\n",
    "                                reservations=reservations,\n",
    "                                start_date=\"now\",\n",
    "                                end_date=end_date\n",
    "                                )\n",
    "lease_id = lease_info.get(\"id\")\n",
    "my_log('Waiting for the lease to be active...')\n",
    "active_lease_info = lease.wait_for_active(lease_id)\n",
    "my_log('Lease is active')"
   ]
  },
  {
   "cell_type": "code",
   "execution_count": null,
   "metadata": {
    "tags": []
   },
   "outputs": [],
   "source": [
    "reservation_id = lease.get_node_reservation(lease_id)\n",
    "my_log(f'Reservation ID: {reservation_id}')"
   ]
  },
  {
   "cell_type": "code",
   "execution_count": null,
   "metadata": {
    "tags": []
   },
   "outputs": [],
   "source": [
    "my_log('Creating server...')\n",
    "computing_node = server.create_server(\n",
    "    server_name=MASTER_NAME,\n",
    "    flavor_name=FLAVOR_NAME,\n",
    "    image_name=IMAGE_NAME,\n",
    "    image_id=IMAGE_ID,\n",
    "    network_name=NETWORK_NAME,\n",
    "    reservation_id=reservation_id,\n",
    ")\n",
    "my_log('Server created')\n",
    "my_log('Waiting for node to be active...')\n",
    "server.wait_for_active(computing_node.id)\n",
    "my_log('Node is active')"
   ]
  },
  {
   "cell_type": "code",
   "execution_count": null,
   "metadata": {
    "tags": []
   },
   "outputs": [],
   "source": [
    "# Get a floating IP to connect to the server\n",
    "computing_fip = chi.server.associate_floating_ip(computing_node.id)\n",
    "my_log(f'Floating IP: {computing_fip}')\n",
    "# wait for the server + sshd to become active. Especially with baremetal, it can take some time to boot\n",
    "my_log('Waiting for TCP to be active')\n",
    "server.wait_for_tcp(computing_fip, 22)\n",
    "my_log('TCP is active')"
   ]
  },
  {
   "cell_type": "code",
   "execution_count": null,
   "metadata": {
    "tags": []
   },
   "outputs": [],
   "source": [
    "# It is possible to connect manually via SSH or...\n",
    "my_log(f'Connect manually to the server with: ssh cc@{computing_fip}')"
   ]
  },
  {
   "cell_type": "code",
   "execution_count": null,
   "metadata": {
    "tags": []
   },
   "outputs": [],
   "source": [
    "# ...or connect through SSH to the server using this notebook\n",
    "my_log(f\"Waiting for SSH connectivity on {computing_fip} ...\")\n",
    "timeout = 2*60\n",
    "\n",
    "import socket\n",
    "import time\n",
    "\n",
    "# Repeatedly try to connect via SSH.\n",
    "start_time = time.perf_counter()\n",
    "while True:\n",
    "   try:\n",
    "      with socket.create_connection((computing_fip, 22), timeout=timeout):\n",
    "            my_log(\"Connection successful\")\n",
    "            break\n",
    "   except OSError as ex:\n",
    "      time.sleep(10)\n",
    "      if time.perf_counter() - start_time >= timeout:\n",
    "            my_log(f\"After {timeout} seconds, could not connect via SSH. Please try again.\")"
   ]
  },
  {
   "cell_type": "code",
   "execution_count": null,
   "metadata": {
    "tags": []
   },
   "outputs": [],
   "source": [
    "# Once connected, check that it works\n",
    "from chi import ssh\n",
    "with ssh.Remote(computing_fip) as conn:\n",
    "    conn.run('ls')"
   ]
  },
  {
   "cell_type": "markdown",
   "metadata": {
    "tags": []
   },
   "source": [
    "## Run experiments\n",
    "It is possible to run the experiments either running the scripts from a terminal (through SSH) or from Jupyter (the following cells)"
   ]
  },
  {
   "cell_type": "code",
   "execution_count": null,
   "metadata": {
    "tags": []
   },
   "outputs": [],
   "source": [
    "# We need the wand package and make sure that we can manipulate PDFs\n",
    "!sudo apt update; sudo apt install imagemagick\n",
    "!pip install wand\n",
    "!APPENDLINE='<policy domain=\"coder\" rights=\"read | write\" pattern=\"PDF\" />'\n",
    "!IMFILE='/etc/ImageMagick-6/policy.xml'\n",
    "!grep -qxF \"$LINE\" $IMFILE || sudo sed -i \"/<\\/policymap>/i $LINE\" $IMFILE"
   ]
  },
  {
   "cell_type": "markdown",
   "metadata": {
    "tags": []
   },
   "source": [
    "### Run everything in a single go"
   ]
  },
  {
   "cell_type": "code",
   "execution_count": null,
   "metadata": {
    "tags": []
   },
   "outputs": [],
   "source": [
    "# Run all experiments with \"00_run_all.sh\", or...\n",
    "from chi import ssh\n",
    "from wand.image import Image as WI\n",
    "\n",
    "figures = [\n",
    "    'fig2a_for_each_its1.pdf', 'fig2b_for_each_its1000.pdf',\n",
    "    'fig3a_for_each_its1.pdf', 'fig3b_for_each_its1000.pdf',\n",
    "    'fig5a_incl_scan.pdf', 'fig5b_incl_scan.pdf',\n",
    "    'fig7a_sort.pdf', 'fig7b_sort.pdf'\n",
    "]\n",
    "\n",
    "with ssh.Remote(computing_fip) as conn:\n",
    "    conn.run('./00_run_all.sh')\n",
    "    for fig in figures:\n",
    "        download_fig(conn, fig)\n",
    "\n",
    "for fig in figures:\n",
    "    my_log(fig)\n",
    "    display(WI(filename=f\"pstl-figs/{fig}\"))"
   ]
  },
  {
   "cell_type": "markdown",
   "metadata": {
    "tags": []
   },
   "source": [
    "### Run step by step"
   ]
  },
  {
   "cell_type": "code",
   "execution_count": null,
   "metadata": {},
   "outputs": [],
   "source": [
    "# ...or run step by step\n",
    "# 1. Compile the software\n",
    "from chi import ssh\n",
    "with ssh.Remote(computing_fip) as conn:\n",
    "    conn.run('./01_compile.sh')"
   ]
  },
  {
   "cell_type": "code",
   "execution_count": null,
   "metadata": {
    "tags": []
   },
   "outputs": [],
   "source": [
    "# 2. Replicate Figures 2a and 2b\n",
    "scripts = ['./02a_Fig2_experiments.sh', './02b_Fig2_plot.sh']\n",
    "figures = ['fig2a_for_each_its1.pdf', 'fig2b_for_each_its1000.pdf']\n",
    "\n",
    "from chi import ssh\n",
    "from wand.image import Image as WI\n",
    "with ssh.Remote(computing_fip) as conn:\n",
    "    for script in scripts:\n",
    "        conn.run(script)\n",
    "    for fig in figures:\n",
    "        download_fig(conn, fig)\n",
    "\n",
    "for fig in figures:\n",
    "    my_log(fig)\n",
    "    display(WI(filename=f\"pstl-figs/{fig}\"))"
   ]
  },
  {
   "cell_type": "code",
   "execution_count": null,
   "metadata": {
    "tags": []
   },
   "outputs": [],
   "source": [
    "# 3. Replicate Figures 3a and 3b\n",
    "scripts = ['./03a_Fig3_experiments.sh', './03b_Fig3_plot.sh']\n",
    "figures = ['fig3a_for_each_its1.pdf', 'fig3b_for_each_its1000.pdf']\n",
    "\n",
    "from chi import ssh\n",
    "from wand.image import Image as WI\n",
    "with ssh.Remote(computing_fip) as conn:\n",
    "    for script in scripts:\n",
    "        conn.run(script)\n",
    "    for fig in figures:\n",
    "        download_fig(conn, fig)\n",
    "\n",
    "for fig in figures:\n",
    "    my_log(fig)\n",
    "    display(WI(filename=f\"pstl-figs/{fig}\"))"
   ]
  },
  {
   "cell_type": "code",
   "execution_count": null,
   "metadata": {
    "tags": []
   },
   "outputs": [],
   "source": [
    "# 4. Replicate Figures 5a and 5b\n",
    "scripts = ['./04a_Fig5a_experiments.sh', './04b_Fig5a_plot.sh', './04c_Fig5b_experiments.sh', './04d_Fig5b_plot.sh']\n",
    "figures = ['fig5a_incl_scan.pdf', 'fig5b_incl_scan.pdf']\n",
    "\n",
    "from chi import ssh\n",
    "from wand.image import Image as WI\n",
    "with ssh.Remote(computing_fip) as conn:\n",
    "    for script in scripts:\n",
    "        conn.run(script)\n",
    "    for fig in figures:\n",
    "        download_fig(conn, fig)\n",
    "\n",
    "for fig in figures:\n",
    "    my_log(fig)\n",
    "    display(WI(filename=f\"pstl-figs/{fig}\"))"
   ]
  },
  {
   "cell_type": "code",
   "execution_count": null,
   "metadata": {
    "tags": []
   },
   "outputs": [],
   "source": [
    "# 5. Replicate Figures 7a and 7b\n",
    "scripts = ['./05a_Fig7a_experiments.sh', './05b_Fig7a_plot.sh', './05c_Fig7b_experiments.sh', './05d_Fig7b_plot.sh']\n",
    "figures = ['fig7a_sort.pdf', 'fig7b_sort.pdf']\n",
    "\n",
    "from chi import ssh\n",
    "from wand.image import Image as WI\n",
    "with ssh.Remote(computing_fip) as conn:\n",
    "    for script in scripts:\n",
    "        conn.run(script)\n",
    "    for fig in figures:\n",
    "        download_fig(conn, fig)\n",
    "\n",
    "for fig in figures:\n",
    "    my_log(fig)\n",
    "    display(WI(filename=f\"pstl-figs/{fig}\"))"
   ]
  }
 ],
 "metadata": {
  "kernelspec": {
   "display_name": "Python 3 (ipykernel)",
   "language": "python",
   "name": "python3"
  },
  "language_info": {
   "codemirror_mode": {
    "name": "ipython",
    "version": 3
   },
   "file_extension": ".py",
   "mimetype": "text/x-python",
   "name": "python",
   "nbconvert_exporter": "python",
   "pygments_lexer": "ipython3",
   "version": "3.10.9"
  }
 },
 "nbformat": 4,
 "nbformat_minor": 4
}
