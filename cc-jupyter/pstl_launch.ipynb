{
 "cells": [
  {
   "cell_type": "markdown",
   "metadata": {
    "pycharm": {
     "name": "#%% md\n"
    }
   },
   "source": [
    "# Exploring Scalability in C++ Parallel STL Implementations\n",
    "This jupyter notebook will reserve and setup the node to reproduce the experiments in the paper \"Exploring Scalability in C++ Parallel STL Implementations\".\n",
    "After the execution of this notebook, the user should be able to `ssh` into the system and execute there the scripts to reproduce the results of the paper."
   ]
  },
  {
   "cell_type": "code",
   "execution_count": null,
   "metadata": {},
   "outputs": [],
   "source": [
    "import chi\n",
    "PROJECT_NAME=\"YOUR_PROJECT_NAME\"\n",
    "chi.use_site('CHI@TACC')\n",
    "chi.set(\"project_name\",PROJECT_NAME)"
   ]
  },
  {
   "cell_type": "code",
   "execution_count": null,
   "metadata": {},
   "outputs": [],
   "source": [
    "from chi import server\n",
    "from os import environ\n",
    "\n",
    "# get username, but we can't use \"_\" in some of the next steps, so replace with \"-\"\n",
    "username = environ.get('USER').replace(\"_\", \"-\")\n",
    "\n",
    "IMAGE_NAME = \"ubuntu22-pstl\"\n",
    "IMAGE_ID = \"b9aee79d-7f59-4469-a290-f479b48808bf\"\n",
    "MASTER_NAME = f\"icpp-pstl\"\n",
    "NETWORK_NAME = \"sharednet1\"\n",
    "\n",
    "FLAVOR_NAME = \"baremetal\"\n",
    "NODE_TYPE = \"compute_zen3\"\n",
    "\n",
    "print(f'Image: {IMAGE_NAME}')\n",
    "print(f'Master: {MASTER_NAME}')\n",
    "print(f'Network: {NETWORK_NAME}')\n",
    "print(f'Flavor: {FLAVOR_NAME}')\n",
    "print(f'Node type: {NODE_TYPE}')\n",
    "\n",
    "SERVER_COUNT = 1"
   ]
  },
  {
   "cell_type": "code",
   "execution_count": null,
   "metadata": {},
   "outputs": [],
   "source": [
    "# Create a reservation for your nodes\n",
    "from chi import lease\n",
    "\n",
    "reservations = []\n",
    "lease.add_node_reservation(\n",
    "    reservations, count=SERVER_COUNT, node_type=NODE_TYPE)\n",
    "\n",
    "start_date, end_date = lease.lease_duration(days=1) # hours=2\n",
    "\n",
    "lease_info = lease.create_lease(f\"{username}-lease\",\n",
    "                                reservations=reservations,\n",
    "                                start_date=\"now\",\n",
    "                                end_date=end_date\n",
    "                                )\n",
    "lease_id = lease_info.get(\"id\")\n",
    "active_lease_info = lease.wait_for_active(lease_id)"
   ]
  },
  {
   "cell_type": "code",
   "execution_count": null,
   "metadata": {},
   "outputs": [],
   "source": [
    "reservation_id = lease.get_node_reservation(lease_id)\n",
    "display(reservation_id)"
   ]
  },
  {
   "cell_type": "code",
   "execution_count": null,
   "metadata": {},
   "outputs": [],
   "source": [
    "print('Creating server...')\n",
    "computing_node = server.create_server(\n",
    "    server_name=MASTER_NAME,\n",
    "    flavor_name=FLAVOR_NAME,\n",
    "    image_name=IMAGE_NAME,\n",
    "    image_id=IMAGE_ID,\n",
    "    network_name=NETWORK_NAME,\n",
    "    reservation_id=reservation_id,\n",
    ")\n",
    "print('Server created')\n",
    "print('Waiting for node to be active...')\n",
    "server.wait_for_active(computing_node.id)\n",
    "print('Node is active')"
   ]
  },
  {
   "cell_type": "code",
   "execution_count": null,
   "metadata": {},
   "outputs": [],
   "source": [
    "# associate the ssh security group with our computing node\n",
    "computing_fip = chi.server.associate_floating_ip(computing_node.id)"
   ]
  },
  {
   "cell_type": "code",
   "execution_count": null,
   "metadata": {},
   "outputs": [],
   "source": [
    "# wait for the server + sshd to become active. Especially with baremetal, it can take some time to boot\n",
    "server.wait_for_tcp(computing_fip, 22)\n",
    "print(f\"ssh cc@{computing_fip}\")"
   ]
  }
 ],
 "metadata": {
  "kernelspec": {
   "display_name": "Python 3 (ipykernel)",
   "language": "python",
   "name": "python3"
  },
  "language_info": {
   "codemirror_mode": {
    "name": "ipython",
    "version": 3
   },
   "file_extension": ".py",
   "mimetype": "text/x-python",
   "name": "python",
   "nbconvert_exporter": "python",
   "pygments_lexer": "ipython3",
   "version": "3.10.9"
  }
 },
 "nbformat": 4,
 "nbformat_minor": 4
}
